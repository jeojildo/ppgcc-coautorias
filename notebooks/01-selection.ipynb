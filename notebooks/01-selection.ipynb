{
 "cells": [
  {
   "cell_type": "code",
   "execution_count": null,
   "id": "5f19f7a5",
   "metadata": {},
   "outputs": [],
   "source": [
    "import os\n",
    "import shutil\n",
    "from pathlib import Path\n",
    "\n",
    "from dotenv import load_dotenv\n",
    "\n",
    "import gdown\n",
    "\n",
    "import zipfile"
   ]
  },
  {
   "cell_type": "code",
   "execution_count": null,
   "id": "48cf4b47",
   "metadata": {},
   "outputs": [],
   "source": [
    "load_dotenv()\n",
    "\n",
    "PPGCC_BRAZIL_DOWNLOAD = os.getenv(\"PPGCC_BRAZIL_DOWNLOAD\")\n",
    "DATASET_DIRECTORY = Path(os.getenv(\"DATASET_DIRECTORY\"))"
   ]
  },
  {
   "cell_type": "markdown",
   "id": "0c791856",
   "metadata": {},
   "source": [
    "# 1. Selection"
   ]
  },
  {
   "cell_type": "markdown",
   "id": "9be409b7",
   "metadata": {},
   "source": [
    "## 1.1. Data collection"
   ]
  },
  {
   "cell_type": "code",
   "execution_count": null,
   "id": "897862a1",
   "metadata": {},
   "outputs": [],
   "source": [
    "selection_directory = Path(DATASET_DIRECTORY, \"01-selection\")\n",
    "selection_file = selection_directory / \"ppgcc_brazil.zip\"\n",
    "\n",
    "os.makedirs(selection_directory, exist_ok=True)"
   ]
  },
  {
   "cell_type": "code",
   "execution_count": null,
   "id": "1cb865bc",
   "metadata": {},
   "outputs": [],
   "source": [
    "gdown.download(PPGCC_BRAZIL_DOWNLOAD, str(selection_file))"
   ]
  },
  {
   "cell_type": "markdown",
   "id": "c40d56d5",
   "metadata": {},
   "source": [
    "## 1.2. Extraction of folder"
   ]
  },
  {
   "cell_type": "code",
   "execution_count": null,
   "id": "7e116a8a",
   "metadata": {},
   "outputs": [],
   "source": [
    "with zipfile.ZipFile(selection_file, 'r') as zip_ref:\n",
    "    zip_ref.extractall(selection_directory)\n",
    "os.remove(selection_file)"
   ]
  },
  {
   "cell_type": "markdown",
   "id": "e50f388c",
   "metadata": {},
   "source": [
    "## 1.3. Renaming files"
   ]
  },
  {
   "cell_type": "code",
   "execution_count": null,
   "id": "875984b7",
   "metadata": {},
   "outputs": [],
   "source": [
    "curriculum_dataset_directory = selection_directory / \"curriculolattesprofessoresppgccbrasil\"\n",
    "curriculum_dataset_directory"
   ]
  },
  {
   "cell_type": "code",
   "execution_count": null,
   "id": "5547448b",
   "metadata": {},
   "outputs": [],
   "source": [
    "for subdir, dirs, files in os.walk(curriculum_dataset_directory):\n",
    "    for filename in files:\n",
    "        filepath = Path(subdir, filename)\n",
    "        file_directory = Path(subdir, filepath.stem)\n",
    "        with zipfile.ZipFile(filepath, 'r') as zip_ref:\n",
    "            zip_ref.extractall(file_directory)\n",
    "        os.remove(filepath)"
   ]
  },
  {
   "cell_type": "code",
   "execution_count": null,
   "id": "a278da1f",
   "metadata": {},
   "outputs": [],
   "source": [
    "lattes_directories = []\n",
    "\n",
    "for subdir, dirs, files in os.walk(curriculum_dataset_directory):\n",
    "    for file in files:\n",
    "\n",
    "        filepath = Path(subdir, file)\n",
    "\n",
    "        if filepath.name != \"curriculo.xml\":\n",
    "            os.remove(filepath)\n",
    "            continue\n",
    "\n",
    "        institution_directory = filepath.parent.parent\n",
    "        lattes_directory = filepath.parent\n",
    "        lattes_id = filepath.parent.name\n",
    "\n",
    "        new_filename = f\"{lattes_id}.xml\"\n",
    "        new_filepath = institution_directory / new_filename\n",
    "\n",
    "        os.rename(filepath, new_filepath)\n",
    "        shutil.rmtree(lattes_directory)"
   ]
  }
 ],
 "metadata": {
  "kernelspec": {
   "display_name": ".venv",
   "language": "python",
   "name": "python3"
  },
  "language_info": {
   "codemirror_mode": {
    "name": "ipython",
    "version": 3
   },
   "file_extension": ".py",
   "mimetype": "text/x-python",
   "name": "python",
   "nbconvert_exporter": "python",
   "pygments_lexer": "ipython3",
   "version": "3.12.7"
  }
 },
 "nbformat": 4,
 "nbformat_minor": 5
}

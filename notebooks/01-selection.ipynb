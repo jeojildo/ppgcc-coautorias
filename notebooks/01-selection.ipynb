{
 "cells": [
  {
   "cell_type": "code",
   "execution_count": null,
   "id": "7addc09f",
   "metadata": {},
   "outputs": [],
   "source": [
    "from utils import setrootdir\n",
    "\n",
    "setrootdir(\"ppgcc-coautorias\")"
   ]
  },
  {
   "cell_type": "code",
   "execution_count": null,
   "id": "5f19f7a5",
   "metadata": {},
   "outputs": [],
   "source": [
    "import os\n",
    "from pathlib import Path\n",
    "\n",
    "from dotenv import load_dotenv\n",
    "\n",
    "from src.selection import Selector"
   ]
  },
  {
   "cell_type": "code",
   "execution_count": null,
   "id": "48cf4b47",
   "metadata": {},
   "outputs": [],
   "source": [
    "load_dotenv()\n",
    "\n",
    "PPGCC_BRAZIL_DOWNLOAD = os.getenv(\"PPGCC_BRAZIL_DOWNLOAD\")\n",
    "DATASET_DIRECTORY = Path(os.getenv(\"DATASET_DIRECTORY\"))\n",
    "METADATA_FILE = Path(os.getenv(\"METADATA_FILE\"))"
   ]
  },
  {
   "cell_type": "markdown",
   "id": "0c791856",
   "metadata": {},
   "source": [
    "# 1. Selection"
   ]
  },
  {
   "cell_type": "code",
   "execution_count": null,
   "id": "f89d983b",
   "metadata": {},
   "outputs": [],
   "source": [
    "selector = Selector(\n",
    "    data_dir=DATASET_DIRECTORY,\n",
    "    metadata_file=METADATA_FILE\n",
    ")"
   ]
  },
  {
   "cell_type": "markdown",
   "id": "9be409b7",
   "metadata": {},
   "source": [
    "## 1.1. Data collection"
   ]
  },
  {
   "cell_type": "code",
   "execution_count": null,
   "id": "1cb865bc",
   "metadata": {},
   "outputs": [],
   "source": [
    "selector.download(\n",
    "    selection_dir_name=\"01-selection\",\n",
    "    gdown_url=PPGCC_BRAZIL_DOWNLOAD\n",
    ")"
   ]
  },
  {
   "cell_type": "markdown",
   "id": "c40d56d5",
   "metadata": {},
   "source": [
    "## 1.2. Extraction"
   ]
  },
  {
   "cell_type": "code",
   "execution_count": null,
   "id": "7e116a8a",
   "metadata": {},
   "outputs": [],
   "source": [
    "selector.extract(selection_dir_name=\"01-selection\")"
   ]
  },
  {
   "cell_type": "markdown",
   "id": "e50f388c",
   "metadata": {},
   "source": [
    "## 1.3. Renaming files"
   ]
  },
  {
   "cell_type": "code",
   "execution_count": null,
   "id": "5547448b",
   "metadata": {},
   "outputs": [],
   "source": [
    "selector.rename_xmls(selection_dir_name=\"01-selection\")"
   ]
  }
 ],
 "metadata": {
  "kernelspec": {
   "display_name": ".venv",
   "language": "python",
   "name": "python3"
  },
  "language_info": {
   "codemirror_mode": {
    "name": "ipython",
    "version": 3
   },
   "file_extension": ".py",
   "mimetype": "text/x-python",
   "name": "python",
   "nbconvert_exporter": "python",
   "pygments_lexer": "ipython3",
   "version": "3.12.7"
  }
 },
 "nbformat": 4,
 "nbformat_minor": 5
}

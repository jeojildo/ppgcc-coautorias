{
 "cells": [
  {
   "cell_type": "code",
   "execution_count": null,
   "id": "99851506",
   "metadata": {},
   "outputs": [],
   "source": [
    "from utils import setrootdir\n",
    "setrootdir(\"ppgcc-coautorias\")"
   ]
  },
  {
   "cell_type": "code",
   "execution_count": null,
   "id": "86898447",
   "metadata": {},
   "outputs": [],
   "source": [
    "import os\n",
    "import xml.etree.ElementTree as et\n",
    "import pickle\n",
    "from pathlib import Path\n",
    "import re\n",
    "import unicodedata\n",
    "\n",
    "from dotenv import load_dotenv\n",
    "\n",
    "import pandas as pd\n",
    "\n",
    "import splink.comparison_library as cl\n",
    "from splink import DuckDBAPI, Linker, SettingsCreator, block_on\n",
    "\n",
    "from src.explattes.Pesquisador import Pesquisador"
   ]
  },
  {
   "cell_type": "markdown",
   "id": "d19fce82",
   "metadata": {},
   "source": [
    "# 2. Preprocessing"
   ]
  },
  {
   "cell_type": "code",
   "execution_count": null,
   "id": "86e52205",
   "metadata": {},
   "outputs": [],
   "source": [
    "load_dotenv()\n",
    "\n",
    "DATASET_DIRECTORY = os.getenv(\"DATASET_DIRECTORY\")"
   ]
  },
  {
   "cell_type": "markdown",
   "id": "9942ee0d",
   "metadata": {},
   "source": [
    "## 2.1. DataFrames construction"
   ]
  },
  {
   "cell_type": "code",
   "execution_count": null,
   "id": "027d988b",
   "metadata": {},
   "outputs": [],
   "source": [
    "curriculum_dataset_directory = Path(DATASET_DIRECTORY, \"01-selection\", \"curriculolattesprofessoresppgccbrasil\")\n",
    "\n",
    "resumes = {}\n",
    "\n",
    "for subdir, dirs, files in os.walk(curriculum_dataset_directory):\n",
    "    for file in files:\n",
    "        \n",
    "        filepath = Path(subdir, file)\n",
    "\n",
    "        institution = filepath.parent.name\n",
    "\n",
    "        if institution not in resumes:\n",
    "            resumes[institution] = []\n",
    "\n",
    "        root = et.parse(filepath).getroot()\n",
    "        researcher = Pesquisador(root)\n",
    "        resumes[institution].append(researcher)"
   ]
  },
  {
   "cell_type": "markdown",
   "id": "34791d89",
   "metadata": {},
   "source": [
    "### 2.1.1. Productions"
   ]
  },
  {
   "cell_type": "code",
   "execution_count": null,
   "id": "ed641133",
   "metadata": {},
   "outputs": [],
   "source": [
    "data_events = {\n",
    "    \"name\": [],\n",
    "    \"citation\": [],\n",
    "    \"lattes_id\": [],\n",
    "    \"institution\": [],\n",
    "    \"production\": [],\n",
    "    \"authors\": [],\n",
    "    \"location\": [],\n",
    "    \"type\": [],\n",
    "    \"year\": [],\n",
    "    \"issn\": [],\n",
    "}\n",
    "\n",
    "for institution, researchers in resumes.items():\n",
    "    for researcher in researchers:\n",
    "        for producao in researcher.producoes:\n",
    "            data_events[\"name\"].append(researcher.nome)\n",
    "            data_events[\"citation\"].append(researcher.citacoes)\n",
    "            data_events[\"lattes_id\"].append(researcher.id)\n",
    "            data_events[\"institution\"].append(institution)\n",
    "            data_events[\"production\"].append(producao.titulo)\n",
    "            data_events[\"authors\"].append(producao.autores)\n",
    "            data_events[\"location\"].append(producao.local)\n",
    "            data_events[\"type\"].append(producao.tipo.name)\n",
    "            data_events[\"year\"].append(producao.ano)\n",
    "            data_events[\"issn\"].append(producao.issn)\n",
    "\n",
    "df_productions = pd.DataFrame(data_events)\n",
    "df_productions = df_productions.reset_index(names=\"production_id\")\n",
    "df_productions"
   ]
  },
  {
   "cell_type": "code",
   "execution_count": null,
   "id": "cdc712e3",
   "metadata": {},
   "outputs": [],
   "source": [
    "df_productions.dtypes"
   ]
  },
  {
   "cell_type": "code",
   "execution_count": null,
   "id": "8ef50e88",
   "metadata": {},
   "outputs": [],
   "source": [
    "df_productions[\"year\"] = df_productions[\"year\"].map(lambda x: int(x) if str(x).isnumeric() else None)\n",
    "df_productions = df_productions.astype({\"year\": \"Int64\"})\n",
    "df_productions.dtypes"
   ]
  },
  {
   "cell_type": "markdown",
   "id": "4a5d3597",
   "metadata": {},
   "source": [
    "## 2.2. Productions with no authors"
   ]
  },
  {
   "cell_type": "code",
   "execution_count": null,
   "id": "753dddbd",
   "metadata": {},
   "outputs": [],
   "source": [
    "df_productions[df_productions[\"authors\"].map(len) < 1]"
   ]
  },
  {
   "cell_type": "code",
   "execution_count": null,
   "id": "d0ff0bf4",
   "metadata": {},
   "outputs": [],
   "source": [
    "df_productions = df_productions[df_productions[\"authors\"].map(len) > 0].reset_index(drop=True)\n",
    "df_productions"
   ]
  },
  {
   "cell_type": "markdown",
   "id": "25843c32",
   "metadata": {},
   "source": [
    "## 2.3. Citation normalization"
   ]
  },
  {
   "cell_type": "code",
   "execution_count": null,
   "id": "5e4610d8",
   "metadata": {},
   "outputs": [],
   "source": [
    "df_citations = df_productions.drop_duplicates(subset=[\"lattes_id\"])[[\"name\", \"citation\"]].reset_index(drop=True)\n",
    "df_citations"
   ]
  },
  {
   "cell_type": "code",
   "execution_count": null,
   "id": "bbeb8f51",
   "metadata": {},
   "outputs": [],
   "source": [
    "citation_variations = [name for citations in df_citations[\"citation\"] for name in citations]\n",
    "\n",
    "print(f\"There is a total of {len(citation_variations)} citation variations.\")\n",
    "\n",
    "variations_counting = {}\n",
    "\n",
    "for citation in citation_variations:\n",
    "    if citation not in variations_counting.keys():\n",
    "        variations_counting[citation] = 0\n",
    "    variations_counting[citation] += 1\n",
    "\n",
    "non_duplicated_variations = [citation for citation, count in variations_counting.items() if count == 1]\n",
    "non_duplicated_variations = set(non_duplicated_variations)\n",
    "\n",
    "print(f\"There is a total of {len(non_duplicated_variations)} non-duplicated citation variations.\")"
   ]
  },
  {
   "cell_type": "code",
   "execution_count": null,
   "id": "3170d938",
   "metadata": {},
   "outputs": [],
   "source": [
    "citations_reference = {}\n",
    "\n",
    "for i, row in df_citations.iterrows():\n",
    "    for citation in row[\"citation\"]:\n",
    "        if citation in non_duplicated_variations:\n",
    "            citations_reference[citation] = row[\"name\"]\n",
    "\n",
    "print(len(citations_reference))"
   ]
  },
  {
   "cell_type": "code",
   "execution_count": null,
   "id": "7f18986a",
   "metadata": {},
   "outputs": [],
   "source": [
    "def normalize_citations(authors):\n",
    "    normalized_authors = []\n",
    "    for author in authors:\n",
    "        if author in non_duplicated_variations:\n",
    "            normalized_authors.append(citations_reference[author])\n",
    "        else:\n",
    "            normalized_authors.append(author)\n",
    "    return normalized_authors\n",
    "\n",
    "df_productions[\"authors\"] = df_productions[\"authors\"].apply(normalize_citations)\n",
    "df_productions"
   ]
  },
  {
   "cell_type": "code",
   "execution_count": null,
   "id": "553664e7",
   "metadata": {},
   "outputs": [],
   "source": [
    "new_df_exploded = df_productions.explode(\"authors\").reset_index(drop=True)\n",
    "new_df_exploded[\"authors\"].unique()"
   ]
  },
  {
   "cell_type": "markdown",
   "id": "29660eda",
   "metadata": {},
   "source": [
    "## 2.4. Ambiguous citations"
   ]
  },
  {
   "cell_type": "code",
   "execution_count": null,
   "id": "e6ff272c",
   "metadata": {},
   "outputs": [],
   "source": [
    "df_citations_exploded = df_productions[[\"production_id\", \"authors\"]].explode(\"authors\").reset_index(drop=True)\n",
    "df_citations_exploded"
   ]
  },
  {
   "cell_type": "code",
   "execution_count": null,
   "id": "a5dd3fc4",
   "metadata": {},
   "outputs": [],
   "source": [
    "df_ambiguous_citations = df_citations_exploded[~df_citations_exploded[\"authors\"].isin(non_duplicated_variations)]\n",
    "df_ambiguous_citations"
   ]
  },
  {
   "cell_type": "code",
   "execution_count": null,
   "id": "e78a3cd9",
   "metadata": {},
   "outputs": [],
   "source": [
    "name_patterns = {\n",
    "    \"Single\": r\"^[A-Z][a-z]+$\",\n",
    "    \"First Last\": r\"^[A-Z][a-z]+ [A-Z][a-z]+$\",\n",
    "    \"First Middle Last\": r\"^[A-Z][a-z]+ [A-Z][a-z]+ [A-Z][a-z]+$\",\n",
    "    \"First Various Last\": r\"^[A-Z][a-z]+( [A-Z][a-z]+)+ [A-Z][a-z]+$\",\n",
    "    \"First M. Last\": r\"^[A-Z][a-z]+ [A-Z]\\. [A-Z][a-z]+$\",\n",
    "    \"First V. Last\": r\"^[A-Z][a-z]+( [A-Z]\\.)+( [A-Z][a-z]+)$\",\n",
    "    \"First M. Various Last\": r\"^[A-Z][a-z]+ [A-Z]\\. [A-Z][a-z]+( [A-Z][a-z]+)+$\",\n",
    "    \"First V. Various Last\": r\"^[A-Z][a-z]+( [A-Z]\\.)+ [A-Z][a-z]+( [A-Z][a-z]+)+$\",\n",
    "    \"First Second M. Last\": r\"^[A-Z][a-z]+ [A-Z][a-z]+ [A-Z]\\. [A-Z][a-z]+$\",\n",
    "    \"First Second V. Last\": r\"^[A-Z][a-z]+ [A-Z][a-z]+( [A-Z]\\.)+ [A-Z][a-z]+$\",\n",
    "    \"First d? Last\": r\"^[A-Z][a-z]+ d[a-z]+ [A-Z][a-z]+$\",\n",
    "    \"First d? Penultimate Last\": r\"^[A-Z][a-z]+ d[a-z]+ [A-Z][a-z]+ [A-Z][a-z]+$\",\n",
    "    \"First d? Various Last\": r\"^[A-Z][a-z]+( [A-Z][a-z]+)+ d[a-z]+ [A-Z][a-z]+$\",\n",
    "    \"First Various d? Last\": r\"^[A-Z][a-z]+( [A-Z][a-z]+)+ d[a-z]+ [A-Z][a-z]+$\",\n",
    "    \"First Second d? Last\": r\"^[A-Z][a-z]+ [A-Z][a-z]+ d[a-z]+ [A-Z][a-z]+$\",\n",
    "    \"First Second d? Various Last\": r\"^[A-Z][a-z]+ [A-Z][a-z]+ d[a-z]+( [A-Z][a-z]+)+ [A-Z][a-z]+$\",\n",
    "    \"Last, First\": r\"^[A-Z][a-z]+, [A-Z][a-z]+$\",\n",
    "    \"Last, First Middle\": r\"^[A-Z][a-z]+, [A-Z][a-z]+ [A-Z][a-z]+$\",\n",
    "    \"Last, First M.\": r\"^[A-Z][a-z]+, [A-Z][a-z]+ [A-Z]\\.$\",\n",
    "    \"Last, First V.\": r\"^[A-Z][a-z]+, [A-Z][a-z]+( [A-Z]\\.)+$\",\n",
    "    \"Last Penultimate, First\": r\"^[A-Z][a-z]+ [A-Z][a-z]+, [A-Z][a-z]+$\",\n",
    "    \"Last Penultimate, First Middle\": r\"^[A-Z][a-z]+ [A-Z][a-z]+, [A-Z][a-z]+ [A-Z][a-z]+$\",\n",
    "    \"Last Penultimate, First Various\": r\"^[A-Z][a-z]+ [A-Z][a-z]+, [A-Z][a-z]+( [A-Z][a-z]+)+$\",\n",
    "    \"Last Penultimate, First M.\": r\"^[A-Z][a-z]+ [A-Z][a-z]+, [A-Z][a-z]+ [A-Z]\\.$\",\n",
    "    \"Last Penultimate, First V.\": r\"^[A-Z][a-z]+ [A-Z][a-z]+, [A-Z][a-z]+( [A-Z]\\.)+$\",\n",
    "\n",
    "    \"SINGLE\": r\"^[A-Z]+$\",\n",
    "    \"FIRST LAST\": r\"^[A-Z]+ [A-Z]+$\",\n",
    "    \"FIRST MIDDLE LAST\": r\"^[A-Z]+ [A-Z]+ [A-Z]+$\",\n",
    "    \"FIRST VARIOUS LAST\": r\"^[A-Z]+( [A-Z]+)+ [A-Z]+$\",\n",
    "    \"FIRST M. LAST\": r\"^[A-Z]+ [A-Z]\\. [A-Z]+$\",\n",
    "    \"FIRST V. LAST\": r\"^[A-Z]+( [A-Z]\\.)+( [A-Z]+)$\",\n",
    "    \"FIRST M. VARIOUS LAST\": r\"^[A-Z]+ [A-Z]\\. [A-Z]+( [A-Z]+)+$\",\n",
    "    \"FIRST V. VARIOUS LAST\": r\"^[A-Z]+( [A-Z]\\.)+ [A-Z]+( [A-Z]+)+$\",\n",
    "    \"FIRST SECOND M. LAST\": r\"^[A-Z]+ [A-Z]+ [A-Z]\\. [A-Z]+$\",\n",
    "    \"FIRST SECOND V. LAST\": r\"^[A-Z]+ [A-Z]+( [A-Z]\\.)+ [A-Z]+$\",\n",
    "    \"FIRST D? LAST\": r\"^[A-Z]+ D[A-Z]+ [A-Z]+$\",\n",
    "    \"FIRST D? PENULTIMATE LAST\": r\"^[A-Z]+ D[A-Z]+ [A-Z]+ [A-Z]+$\",\n",
    "    \"FIRST D? VARIOUS LAST\": r\"^[A-Z]+( [A-Z]+)+ D[A-Z]+ [A-Z]+$\",\n",
    "    \"FIRST VARIOUS D? LAST\": r\"^[A-Z]+( [A-Z]+)+ D[A-Z]+ [A-Z]+$\",\n",
    "    \"FIRST SECOND D? LAST\": r\"^[A-Z]+ [A-Z]+ D[A-Z]+ [A-Z]+$\",\n",
    "    \"FIRST SECOND D? VARIOUS LAST\": r\"^[A-Z]+ [A-Z]+ D[A-Z]+( [A-Z]+)+ [A-Z]+$\",\n",
    "    \"LAST, FIRST\": r\"^[A-Z]+, [A-Z]+$\",\n",
    "    \"LAST, FIRST MIDDLE\": r\"^[A-Z]+, [A-Z]+ [A-Z]+$\",\n",
    "    \"LAST, FIRST M.\": r\"^[A-Z]+, [A-Z]+ [A-Z]\\.$\",\n",
    "    \"LAST, FIRST V.\": r\"^[A-Z]+, [A-Z]+( [A-Z]\\.)+$\",\n",
    "    \"LAST PENULTIMATE, FIRST\": r\"^[A-Z]+ [A-Z]+, [A-Z]+$\",\n",
    "    \"LAST PENULTIMATE, FIRST MIDDLE\": r\"^[A-Z]+ [A-Z]+, [A-Z]+ [A-Z]+$\",\n",
    "    \"LAST PENULTIMATE, FIRST VARIOUS\": r\"^[A-Z]+ [A-Z]+, [A-Z]+( [A-Z]+)+$\",\n",
    "    \"LAST PENULTIMATE, FIRST M.\": r\"^[A-Z]+ [A-Z]+, [A-Z]+ [A-Z]\\.$\",\n",
    "    \"LAST PENULTIMATE, FIRST V.\": r\"^[A-Z]+ [A-Z]+, [A-Z]+( [A-Z]\\.)+$\",\n",
    "}\n",
    "\n",
    "def detect_name_pattern(name):\n",
    "    normalized_name = unicodedata.normalize(\"NFKD\", name).encode(\"ASCII\", \"ignore\").decode(\"utf-8\")\n",
    "    for pattern_name, pattern in name_patterns.items():\n",
    "        if re.match(pattern, normalized_name):\n",
    "            return pattern_name\n",
    "    return \"unknown\"\n",
    "\n",
    "df_ambiguous_citations[\"name_pattern\"] = df_ambiguous_citations[\"authors\"].apply(detect_name_pattern)\n",
    "df_ambiguous_citations"
   ]
  },
  {
   "cell_type": "code",
   "execution_count": null,
   "id": "df6ae579",
   "metadata": {},
   "outputs": [],
   "source": [
    "df_ambiguous_citations[df_ambiguous_citations[\"name_pattern\"] == \"unknown\"]"
   ]
  }
 ],
 "metadata": {
  "kernelspec": {
   "display_name": ".venv",
   "language": "python",
   "name": "python3"
  },
  "language_info": {
   "codemirror_mode": {
    "name": "ipython",
    "version": 3
   },
   "file_extension": ".py",
   "mimetype": "text/x-python",
   "name": "python",
   "nbconvert_exporter": "python",
   "pygments_lexer": "ipython3",
   "version": "3.12.7"
  }
 },
 "nbformat": 4,
 "nbformat_minor": 5
}

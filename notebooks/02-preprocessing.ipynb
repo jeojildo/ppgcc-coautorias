{
 "cells": [
  {
   "cell_type": "code",
   "execution_count": null,
   "id": "99851506",
   "metadata": {},
   "outputs": [],
   "source": [
    "from utils import setrootdir\n",
    "setrootdir(\"ppgcc-coautorias\")"
   ]
  },
  {
   "cell_type": "code",
   "execution_count": null,
   "id": "86898447",
   "metadata": {},
   "outputs": [],
   "source": [
    "import os\n",
    "\n",
    "from dotenv import load_dotenv\n",
    "\n",
    "from src.preprocessing import Preprocesser"
   ]
  },
  {
   "cell_type": "code",
   "execution_count": null,
   "id": "86e52205",
   "metadata": {},
   "outputs": [],
   "source": [
    "load_dotenv()\n",
    "\n",
    "DATASET_DIRECTORY = os.getenv(\"DATASET_DIRECTORY\")\n",
    "METADATA_FILE = os.getenv(\"METADATA_FILE\")"
   ]
  },
  {
   "cell_type": "markdown",
   "id": "d19fce82",
   "metadata": {},
   "source": [
    "# 2. Preprocessing"
   ]
  },
  {
   "cell_type": "code",
   "execution_count": null,
   "id": "261b6a0d",
   "metadata": {},
   "outputs": [],
   "source": [
    "preprocesser = Preprocesser(\n",
    "    data_dir=DATASET_DIRECTORY,\n",
    "    metadata_file=METADATA_FILE\n",
    ")"
   ]
  },
  {
   "cell_type": "markdown",
   "id": "9942ee0d",
   "metadata": {},
   "source": [
    "## 2.1. DataFrames construction"
   ]
  },
  {
   "cell_type": "code",
   "execution_count": null,
   "id": "cb1229ac",
   "metadata": {},
   "outputs": [],
   "source": [
    "institution_registry = preprocesser.extract_institution_registry(\n",
    "    selection_dir_name=\"01-selection\"\n",
    ")\n",
    "\n",
    "institution_registry"
   ]
  },
  {
   "cell_type": "markdown",
   "id": "34791d89",
   "metadata": {},
   "source": [
    "### 2.1.1. Productions"
   ]
  },
  {
   "cell_type": "code",
   "execution_count": null,
   "id": "ed641133",
   "metadata": {},
   "outputs": [],
   "source": [
    "df_productions = preprocesser.frame_productions_all_institutions(institution_registry)\n",
    "df_productions"
   ]
  },
  {
   "cell_type": "markdown",
   "id": "4a5d3597",
   "metadata": {},
   "source": [
    "## 2.2. Productions with no authors"
   ]
  },
  {
   "cell_type": "code",
   "execution_count": null,
   "id": "753dddbd",
   "metadata": {},
   "outputs": [],
   "source": [
    "df_productions = preprocesser.drop_authorless_productions(df_productions)\n",
    "df_productions"
   ]
  },
  {
   "cell_type": "markdown",
   "id": "25843c32",
   "metadata": {},
   "source": [
    "## 2.3. Citation normalization"
   ]
  },
  {
   "cell_type": "code",
   "execution_count": null,
   "id": "4db4a72a",
   "metadata": {},
   "outputs": [],
   "source": [
    "df_productions = preprocesser.normalize_authors(df_productions)\n",
    "df_productions"
   ]
  },
  {
   "cell_type": "code",
   "execution_count": null,
   "id": "553664e7",
   "metadata": {},
   "outputs": [],
   "source": [
    "df_productions = preprocesser.explode_authors(df_productions)\n",
    "df_productions"
   ]
  },
  {
   "cell_type": "code",
   "execution_count": null,
   "id": "1f5a073e",
   "metadata": {},
   "outputs": [],
   "source": [
    "preprocesser.write_parquet(df_productions, step=\"02-preprocessing\", name=\"productions\")"
   ]
  }
 ],
 "metadata": {
  "kernelspec": {
   "display_name": ".venv",
   "language": "python",
   "name": "python3"
  },
  "language_info": {
   "codemirror_mode": {
    "name": "ipython",
    "version": 3
   },
   "file_extension": ".py",
   "mimetype": "text/x-python",
   "name": "python",
   "nbconvert_exporter": "python",
   "pygments_lexer": "ipython3",
   "version": "3.12.7"
  }
 },
 "nbformat": 4,
 "nbformat_minor": 5
}
